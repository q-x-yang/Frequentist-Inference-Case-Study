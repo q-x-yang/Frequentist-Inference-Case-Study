{
  "nbformat": 4,
  "nbformat_minor": 0,
  "metadata": {
    "kernelspec": {
      "display_name": "Python 3",
      "language": "python",
      "name": "python3"
    },
    "language_info": {
      "codemirror_mode": {
        "name": "ipython",
        "version": 3
      },
      "file_extension": ".py",
      "mimetype": "text/x-python",
      "name": "python",
      "nbconvert_exporter": "python",
      "pygments_lexer": "ipython3",
      "version": "3.7.3"
    },
    "colab": {
      "name": "Frequentist Inference Case Study - Part A (3).ipynb",
      "provenance": []
    }
  },
  "cells": [
    {
      "cell_type": "markdown",
      "metadata": {
        "id": "IG16NLpE0IIC"
      },
      "source": [
        "# Frequentist Inference Case Study - Part A "
      ]
    },
    {
      "cell_type": "markdown",
      "metadata": {
        "id": "54nHcU4y0IIJ"
      },
      "source": [
        "## 1. Learning objectives"
      ]
    },
    {
      "cell_type": "markdown",
      "metadata": {
        "id": "5qdcSXUQ0IIK"
      },
      "source": [
        "Welcome to part A of the Frequentist inference case study! The purpose of this case study is to help you apply the concepts associated with Frequentist inference in Python. Frequentist inference is the process of deriving conclusions about an underlying distribution via the observation of data. In particular, you'll practice writing Python code to apply the following statistical concepts: \n",
        "* the _z_-statistic\n",
        "* the _t_-statistic\n",
        "* the difference and relationship between the two\n",
        "* the Central Limit Theorem, including its assumptions and consequences\n",
        "* how to estimate the population mean and standard deviation from a sample\n",
        "* the concept of a sampling distribution of a test statistic, particularly for the mean\n",
        "* how to combine these concepts to calculate a confidence interval"
      ]
    },
    {
      "cell_type": "markdown",
      "metadata": {
        "id": "-mqfeAok0IIK"
      },
      "source": [
        "## Prerequisites"
      ]
    },
    {
      "cell_type": "markdown",
      "metadata": {
        "id": "I3LU2ORE0IIL"
      },
      "source": [
        "To be able to complete this notebook, you are expected to have a basic understanding of:\n",
        "* what a random variable is (p.400 of Professor Spiegelhalter's *The Art of Statistics, hereinafter AoS*)\n",
        "* what a population, and a population distribution, are (p. 397 of *AoS*)\n",
        "* a high-level sense of what the normal distribution is (p. 394 of *AoS*)\n",
        "* what the t-statistic is (p. 275 of *AoS*)\n",
        "\n",
        "Happily, these should all be concepts with which you are reasonably familiar after having read ten chapters of Professor Spiegelhalter's book, *The Art of Statistics*.\n",
        "\n",
        "We'll try to relate the concepts in this case study back to page numbers in *The Art of Statistics* so that you can focus on the Python aspects of this case study. The second part (part B) of this case study will involve another, more real-world application of these tools. "
      ]
    },
    {
      "cell_type": "markdown",
      "metadata": {
        "id": "i6vQ6sXR0IIL"
      },
      "source": [
        "For this notebook, we will use data sampled from a known normal distribution. This allows us to compare our results with theoretical expectations."
      ]
    },
    {
      "cell_type": "markdown",
      "metadata": {
        "id": "02zlix0m0IIL"
      },
      "source": [
        "## 2. An introduction to sampling from the normal distribution"
      ]
    },
    {
      "cell_type": "markdown",
      "metadata": {
        "id": "crCRik6W0IIM"
      },
      "source": [
        "First, let's explore the ways we can generate the normal distribution. While there's a fair amount of interest in [sklearn](https://scikit-learn.org/stable/) within the machine learning community, you're likely to have heard of [scipy](https://docs.scipy.org/doc/scipy-0.15.1/reference/index.html) if you're coming from the sciences. For this assignment, you'll use [scipy.stats](https://docs.scipy.org/doc/scipy-0.15.1/reference/tutorial/stats.html) to complete your work. \n",
        "\n",
        "This assignment will require some digging around and getting your hands dirty (your learning is maximized that way)! You should have the research skills and the tenacity to do these tasks independently, but if you struggle, reach out to your immediate community and your mentor for help. "
      ]
    },
    {
      "cell_type": "code",
      "metadata": {
        "id": "IcjxHnLU0IIM"
      },
      "source": [
        "from scipy.stats import norm\n",
        "from scipy.stats import t\n",
        "import numpy as np\n",
        "import pandas as pd\n",
        "from numpy.random import seed\n",
        "import matplotlib.pyplot as plt"
      ],
      "execution_count": 20,
      "outputs": []
    },
    {
      "cell_type": "markdown",
      "metadata": {
        "id": "4xssAUHm0IIN"
      },
      "source": [
        "__Q1:__ Call up the documentation for the `norm` function imported above. (Hint: that documentation is [here](https://docs.scipy.org/doc/scipy/reference/generated/scipy.stats.norm.html)). What is the second listed method?"
      ]
    },
    {
      "cell_type": "code",
      "metadata": {
        "colab": {
          "base_uri": "https://localhost:8080/"
        },
        "id": "UCjG7OPp0IIN",
        "outputId": "f86c19a2-98d3-4b49-8bcf-b442c05f6bc1"
      },
      "source": [
        "help(norm)"
      ],
      "execution_count": 21,
      "outputs": [
        {
          "output_type": "stream",
          "text": [
            "Help on norm_gen in module scipy.stats._continuous_distns object:\n",
            "\n",
            "class norm_gen(scipy.stats._distn_infrastructure.rv_continuous)\n",
            " |  A normal continuous random variable.\n",
            " |  \n",
            " |  The location (``loc``) keyword specifies the mean.\n",
            " |  The scale (``scale``) keyword specifies the standard deviation.\n",
            " |  \n",
            " |  %(before_notes)s\n",
            " |  \n",
            " |  Notes\n",
            " |  -----\n",
            " |  The probability density function for `norm` is:\n",
            " |  \n",
            " |  .. math::\n",
            " |  \n",
            " |      f(x) = \\frac{\\exp(-x^2/2)}{\\sqrt{2\\pi}}\n",
            " |  \n",
            " |  for a real number :math:`x`.\n",
            " |  \n",
            " |  %(after_notes)s\n",
            " |  \n",
            " |  %(example)s\n",
            " |  \n",
            " |  Method resolution order:\n",
            " |      norm_gen\n",
            " |      scipy.stats._distn_infrastructure.rv_continuous\n",
            " |      scipy.stats._distn_infrastructure.rv_generic\n",
            " |      builtins.object\n",
            " |  \n",
            " |  Methods defined here:\n",
            " |  \n",
            " |  fit(self, data, **kwds)\n",
            " |      Return MLEs for shape (if applicable), location, and scale\n",
            " |      parameters from data.\n",
            " |      \n",
            " |      MLE stands for Maximum Likelihood Estimate.  Starting estimates for\n",
            " |      the fit are given by input arguments; for any arguments not provided\n",
            " |      with starting estimates, ``self._fitstart(data)`` is called to generate\n",
            " |      such.\n",
            " |      \n",
            " |      One can hold some parameters fixed to specific values by passing in\n",
            " |      keyword arguments ``f0``, ``f1``, ..., ``fn`` (for shape parameters)\n",
            " |      and ``floc`` and ``fscale`` (for location and scale parameters,\n",
            " |      respectively).\n",
            " |      \n",
            " |      Parameters\n",
            " |      ----------\n",
            " |      data : array_like\n",
            " |          Data to use in calculating the MLEs.\n",
            " |      args : floats, optional\n",
            " |          Starting value(s) for any shape-characterizing arguments (those not\n",
            " |          provided will be determined by a call to ``_fitstart(data)``).\n",
            " |          No default value.\n",
            " |      kwds : floats, optional\n",
            " |          Starting values for the location and scale parameters; no default.\n",
            " |          Special keyword arguments are recognized as holding certain\n",
            " |          parameters fixed:\n",
            " |      \n",
            " |          - f0...fn : hold respective shape parameters fixed.\n",
            " |            Alternatively, shape parameters to fix can be specified by name.\n",
            " |            For example, if ``self.shapes == \"a, b\"``, ``fa``and ``fix_a``\n",
            " |            are equivalent to ``f0``, and ``fb`` and ``fix_b`` are\n",
            " |            equivalent to ``f1``.\n",
            " |      \n",
            " |          - floc : hold location parameter fixed to specified value.\n",
            " |      \n",
            " |          - fscale : hold scale parameter fixed to specified value.\n",
            " |      \n",
            " |          - optimizer : The optimizer to use.  The optimizer must take ``func``,\n",
            " |            and starting position as the first two arguments,\n",
            " |            plus ``args`` (for extra arguments to pass to the\n",
            " |            function to be optimized) and ``disp=0`` to suppress\n",
            " |            output as keyword arguments.\n",
            " |      \n",
            " |      Returns\n",
            " |      -------\n",
            " |      mle_tuple : tuple of floats\n",
            " |          MLEs for any shape parameters (if applicable), followed by those\n",
            " |          for location and scale. For most random variables, shape statistics\n",
            " |          will be returned, but there are exceptions (e.g. ``norm``).\n",
            " |      \n",
            " |      Notes\n",
            " |      -----\n",
            " |      This function uses explicit formulas for the maximum likelihood\n",
            " |      estimation of the normal distribution parameters, so the\n",
            " |      `optimizer` argument is ignored.\n",
            " |      \n",
            " |      Examples\n",
            " |      --------\n",
            " |      \n",
            " |      Generate some data to fit: draw random variates from the `beta`\n",
            " |      distribution\n",
            " |      \n",
            " |      >>> from scipy.stats import beta\n",
            " |      >>> a, b = 1., 2.\n",
            " |      >>> x = beta.rvs(a, b, size=1000)\n",
            " |      \n",
            " |      Now we can fit all four parameters (``a``, ``b``, ``loc`` and ``scale``):\n",
            " |      \n",
            " |      >>> a1, b1, loc1, scale1 = beta.fit(x)\n",
            " |      \n",
            " |      We can also use some prior knowledge about the dataset: let's keep\n",
            " |      ``loc`` and ``scale`` fixed:\n",
            " |      \n",
            " |      >>> a1, b1, loc1, scale1 = beta.fit(x, floc=0, fscale=1)\n",
            " |      >>> loc1, scale1\n",
            " |      (0, 1)\n",
            " |      \n",
            " |      We can also keep shape parameters fixed by using ``f``-keywords. To\n",
            " |      keep the zero-th shape parameter ``a`` equal 1, use ``f0=1`` or,\n",
            " |      equivalently, ``fa=1``:\n",
            " |      \n",
            " |      >>> a1, b1, loc1, scale1 = beta.fit(x, fa=1, floc=0, fscale=1)\n",
            " |      >>> a1\n",
            " |      1\n",
            " |      \n",
            " |      Not all distributions return estimates for the shape parameters.\n",
            " |      ``norm`` for example just returns estimates for location and scale:\n",
            " |      \n",
            " |      >>> from scipy.stats import norm\n",
            " |      >>> x = norm.rvs(a, b, size=1000, random_state=123)\n",
            " |      >>> loc1, scale1 = norm.fit(x)\n",
            " |      >>> loc1, scale1\n",
            " |      (0.92087172783841631, 2.0015750750324668)\n",
            " |  \n",
            " |  ----------------------------------------------------------------------\n",
            " |  Methods inherited from scipy.stats._distn_infrastructure.rv_continuous:\n",
            " |  \n",
            " |  __init__(self, momtype=1, a=None, b=None, xtol=1e-14, badvalue=None, name=None, longname=None, shapes=None, extradoc=None, seed=None)\n",
            " |      Initialize self.  See help(type(self)) for accurate signature.\n",
            " |  \n",
            " |  cdf(self, x, *args, **kwds)\n",
            " |      Cumulative distribution function of the given RV.\n",
            " |      \n",
            " |      Parameters\n",
            " |      ----------\n",
            " |      x : array_like\n",
            " |          quantiles\n",
            " |      arg1, arg2, arg3,... : array_like\n",
            " |          The shape parameter(s) for the distribution (see docstring of the\n",
            " |          instance object for more information)\n",
            " |      loc : array_like, optional\n",
            " |          location parameter (default=0)\n",
            " |      scale : array_like, optional\n",
            " |          scale parameter (default=1)\n",
            " |      \n",
            " |      Returns\n",
            " |      -------\n",
            " |      cdf : ndarray\n",
            " |          Cumulative distribution function evaluated at `x`\n",
            " |  \n",
            " |  expect(self, func=None, args=(), loc=0, scale=1, lb=None, ub=None, conditional=False, **kwds)\n",
            " |      Calculate expected value of a function with respect to the\n",
            " |      distribution by numerical integration.\n",
            " |      \n",
            " |      The expected value of a function ``f(x)`` with respect to a\n",
            " |      distribution ``dist`` is defined as::\n",
            " |      \n",
            " |                  ub\n",
            " |          E[f(x)] = Integral(f(x) * dist.pdf(x)),\n",
            " |                  lb\n",
            " |      \n",
            " |      where ``ub`` and ``lb`` are arguments and ``x`` has the ``dist.pdf(x)``\n",
            " |      distribution. If the bounds ``lb`` and ``ub`` correspond to the\n",
            " |      support of the distribution, e.g. ``[-inf, inf]`` in the default\n",
            " |      case, then the integral is the unrestricted expectation of ``f(x)``.\n",
            " |      Also, the function ``f(x)`` may be defined such that ``f(x)`` is ``0``\n",
            " |      outside a finite interval in which case the expectation is\n",
            " |      calculated within the finite range ``[lb, ub]``.\n",
            " |      \n",
            " |      Parameters\n",
            " |      ----------\n",
            " |      func : callable, optional\n",
            " |          Function for which integral is calculated. Takes only one argument.\n",
            " |          The default is the identity mapping f(x) = x.\n",
            " |      args : tuple, optional\n",
            " |          Shape parameters of the distribution.\n",
            " |      loc : float, optional\n",
            " |          Location parameter (default=0).\n",
            " |      scale : float, optional\n",
            " |          Scale parameter (default=1).\n",
            " |      lb, ub : scalar, optional\n",
            " |          Lower and upper bound for integration. Default is set to the\n",
            " |          support of the distribution.\n",
            " |      conditional : bool, optional\n",
            " |          If True, the integral is corrected by the conditional probability\n",
            " |          of the integration interval.  The return value is the expectation\n",
            " |          of the function, conditional on being in the given interval.\n",
            " |          Default is False.\n",
            " |      \n",
            " |      Additional keyword arguments are passed to the integration routine.\n",
            " |      \n",
            " |      Returns\n",
            " |      -------\n",
            " |      expect : float\n",
            " |          The calculated expected value.\n",
            " |      \n",
            " |      Notes\n",
            " |      -----\n",
            " |      The integration behavior of this function is inherited from\n",
            " |      `scipy.integrate.quad`. Neither this function nor\n",
            " |      `scipy.integrate.quad` can verify whether the integral exists or is\n",
            " |      finite. For example ``cauchy(0).mean()`` returns ``np.nan`` and\n",
            " |      ``cauchy(0).expect()`` returns ``0.0``.\n",
            " |      \n",
            " |      Examples\n",
            " |      --------\n",
            " |      \n",
            " |      To understand the effect of the bounds of integration consider\n",
            " |      \n",
            " |      >>> from scipy.stats import expon\n",
            " |      >>> expon(1).expect(lambda x: 1, lb=0.0, ub=2.0)\n",
            " |      0.6321205588285578\n",
            " |      \n",
            " |      This is close to\n",
            " |      \n",
            " |      >>> expon(1).cdf(2.0) - expon(1).cdf(0.0)\n",
            " |      0.6321205588285577\n",
            " |      \n",
            " |      If ``conditional=True``\n",
            " |      \n",
            " |      >>> expon(1).expect(lambda x: 1, lb=0.0, ub=2.0, conditional=True)\n",
            " |      1.0000000000000002\n",
            " |      \n",
            " |      The slight deviation from 1 is due to numerical integration.\n",
            " |  \n",
            " |  fit_loc_scale(self, data, *args)\n",
            " |      Estimate loc and scale parameters from data using 1st and 2nd moments.\n",
            " |      \n",
            " |      Parameters\n",
            " |      ----------\n",
            " |      data : array_like\n",
            " |          Data to fit.\n",
            " |      arg1, arg2, arg3,... : array_like\n",
            " |          The shape parameter(s) for the distribution (see docstring of the\n",
            " |          instance object for more information).\n",
            " |      \n",
            " |      Returns\n",
            " |      -------\n",
            " |      Lhat : float\n",
            " |          Estimated location parameter for the data.\n",
            " |      Shat : float\n",
            " |          Estimated scale parameter for the data.\n",
            " |  \n",
            " |  isf(self, q, *args, **kwds)\n",
            " |      Inverse survival function (inverse of `sf`) at q of the given RV.\n",
            " |      \n",
            " |      Parameters\n",
            " |      ----------\n",
            " |      q : array_like\n",
            " |          upper tail probability\n",
            " |      arg1, arg2, arg3,... : array_like\n",
            " |          The shape parameter(s) for the distribution (see docstring of the\n",
            " |          instance object for more information)\n",
            " |      loc : array_like, optional\n",
            " |          location parameter (default=0)\n",
            " |      scale : array_like, optional\n",
            " |          scale parameter (default=1)\n",
            " |      \n",
            " |      Returns\n",
            " |      -------\n",
            " |      x : ndarray or scalar\n",
            " |          Quantile corresponding to the upper tail probability q.\n",
            " |  \n",
            " |  logcdf(self, x, *args, **kwds)\n",
            " |      Log of the cumulative distribution function at x of the given RV.\n",
            " |      \n",
            " |      Parameters\n",
            " |      ----------\n",
            " |      x : array_like\n",
            " |          quantiles\n",
            " |      arg1, arg2, arg3,... : array_like\n",
            " |          The shape parameter(s) for the distribution (see docstring of the\n",
            " |          instance object for more information)\n",
            " |      loc : array_like, optional\n",
            " |          location parameter (default=0)\n",
            " |      scale : array_like, optional\n",
            " |          scale parameter (default=1)\n",
            " |      \n",
            " |      Returns\n",
            " |      -------\n",
            " |      logcdf : array_like\n",
            " |          Log of the cumulative distribution function evaluated at x\n",
            " |  \n",
            " |  logpdf(self, x, *args, **kwds)\n",
            " |      Log of the probability density function at x of the given RV.\n",
            " |      \n",
            " |      This uses a more numerically accurate calculation if available.\n",
            " |      \n",
            " |      Parameters\n",
            " |      ----------\n",
            " |      x : array_like\n",
            " |          quantiles\n",
            " |      arg1, arg2, arg3,... : array_like\n",
            " |          The shape parameter(s) for the distribution (see docstring of the\n",
            " |          instance object for more information)\n",
            " |      loc : array_like, optional\n",
            " |          location parameter (default=0)\n",
            " |      scale : array_like, optional\n",
            " |          scale parameter (default=1)\n",
            " |      \n",
            " |      Returns\n",
            " |      -------\n",
            " |      logpdf : array_like\n",
            " |          Log of the probability density function evaluated at x\n",
            " |  \n",
            " |  logsf(self, x, *args, **kwds)\n",
            " |      Log of the survival function of the given RV.\n",
            " |      \n",
            " |      Returns the log of the \"survival function,\" defined as (1 - `cdf`),\n",
            " |      evaluated at `x`.\n",
            " |      \n",
            " |      Parameters\n",
            " |      ----------\n",
            " |      x : array_like\n",
            " |          quantiles\n",
            " |      arg1, arg2, arg3,... : array_like\n",
            " |          The shape parameter(s) for the distribution (see docstring of the\n",
            " |          instance object for more information)\n",
            " |      loc : array_like, optional\n",
            " |          location parameter (default=0)\n",
            " |      scale : array_like, optional\n",
            " |          scale parameter (default=1)\n",
            " |      \n",
            " |      Returns\n",
            " |      -------\n",
            " |      logsf : ndarray\n",
            " |          Log of the survival function evaluated at `x`.\n",
            " |  \n",
            " |  nnlf(self, theta, x)\n",
            " |      Return negative loglikelihood function.\n",
            " |      \n",
            " |      Notes\n",
            " |      -----\n",
            " |      This is ``-sum(log pdf(x, theta), axis=0)`` where `theta` are the\n",
            " |      parameters (including loc and scale).\n",
            " |  \n",
            " |  pdf(self, x, *args, **kwds)\n",
            " |      Probability density function at x of the given RV.\n",
            " |      \n",
            " |      Parameters\n",
            " |      ----------\n",
            " |      x : array_like\n",
            " |          quantiles\n",
            " |      arg1, arg2, arg3,... : array_like\n",
            " |          The shape parameter(s) for the distribution (see docstring of the\n",
            " |          instance object for more information)\n",
            " |      loc : array_like, optional\n",
            " |          location parameter (default=0)\n",
            " |      scale : array_like, optional\n",
            " |          scale parameter (default=1)\n",
            " |      \n",
            " |      Returns\n",
            " |      -------\n",
            " |      pdf : ndarray\n",
            " |          Probability density function evaluated at x\n",
            " |  \n",
            " |  ppf(self, q, *args, **kwds)\n",
            " |      Percent point function (inverse of `cdf`) at q of the given RV.\n",
            " |      \n",
            " |      Parameters\n",
            " |      ----------\n",
            " |      q : array_like\n",
            " |          lower tail probability\n",
            " |      arg1, arg2, arg3,... : array_like\n",
            " |          The shape parameter(s) for the distribution (see docstring of the\n",
            " |          instance object for more information)\n",
            " |      loc : array_like, optional\n",
            " |          location parameter (default=0)\n",
            " |      scale : array_like, optional\n",
            " |          scale parameter (default=1)\n",
            " |      \n",
            " |      Returns\n",
            " |      -------\n",
            " |      x : array_like\n",
            " |          quantile corresponding to the lower tail probability q.\n",
            " |  \n",
            " |  sf(self, x, *args, **kwds)\n",
            " |      Survival function (1 - `cdf`) at x of the given RV.\n",
            " |      \n",
            " |      Parameters\n",
            " |      ----------\n",
            " |      x : array_like\n",
            " |          quantiles\n",
            " |      arg1, arg2, arg3,... : array_like\n",
            " |          The shape parameter(s) for the distribution (see docstring of the\n",
            " |          instance object for more information)\n",
            " |      loc : array_like, optional\n",
            " |          location parameter (default=0)\n",
            " |      scale : array_like, optional\n",
            " |          scale parameter (default=1)\n",
            " |      \n",
            " |      Returns\n",
            " |      -------\n",
            " |      sf : array_like\n",
            " |          Survival function evaluated at x\n",
            " |  \n",
            " |  ----------------------------------------------------------------------\n",
            " |  Methods inherited from scipy.stats._distn_infrastructure.rv_generic:\n",
            " |  \n",
            " |  __call__(self, *args, **kwds)\n",
            " |      Freeze the distribution for the given arguments.\n",
            " |      \n",
            " |      Parameters\n",
            " |      ----------\n",
            " |      arg1, arg2, arg3,... : array_like\n",
            " |          The shape parameter(s) for the distribution.  Should include all\n",
            " |          the non-optional arguments, may include ``loc`` and ``scale``.\n",
            " |      \n",
            " |      Returns\n",
            " |      -------\n",
            " |      rv_frozen : rv_frozen instance\n",
            " |          The frozen distribution.\n",
            " |  \n",
            " |  __getstate__(self)\n",
            " |  \n",
            " |  __setstate__(self, state)\n",
            " |  \n",
            " |  entropy(self, *args, **kwds)\n",
            " |      Differential entropy of the RV.\n",
            " |      \n",
            " |      Parameters\n",
            " |      ----------\n",
            " |      arg1, arg2, arg3,... : array_like\n",
            " |          The shape parameter(s) for the distribution (see docstring of the\n",
            " |          instance object for more information).\n",
            " |      loc : array_like, optional\n",
            " |          Location parameter (default=0).\n",
            " |      scale : array_like, optional  (continuous distributions only).\n",
            " |          Scale parameter (default=1).\n",
            " |      \n",
            " |      Notes\n",
            " |      -----\n",
            " |      Entropy is defined base `e`:\n",
            " |      \n",
            " |      >>> drv = rv_discrete(values=((0, 1), (0.5, 0.5)))\n",
            " |      >>> np.allclose(drv.entropy(), np.log(2.0))\n",
            " |      True\n",
            " |  \n",
            " |  freeze(self, *args, **kwds)\n",
            " |      Freeze the distribution for the given arguments.\n",
            " |      \n",
            " |      Parameters\n",
            " |      ----------\n",
            " |      arg1, arg2, arg3,... : array_like\n",
            " |          The shape parameter(s) for the distribution.  Should include all\n",
            " |          the non-optional arguments, may include ``loc`` and ``scale``.\n",
            " |      \n",
            " |      Returns\n",
            " |      -------\n",
            " |      rv_frozen : rv_frozen instance\n",
            " |          The frozen distribution.\n",
            " |  \n",
            " |  interval(self, alpha, *args, **kwds)\n",
            " |      Confidence interval with equal areas around the median.\n",
            " |      \n",
            " |      Parameters\n",
            " |      ----------\n",
            " |      alpha : array_like of float\n",
            " |          Probability that an rv will be drawn from the returned range.\n",
            " |          Each value should be in the range [0, 1].\n",
            " |      arg1, arg2, ... : array_like\n",
            " |          The shape parameter(s) for the distribution (see docstring of the\n",
            " |          instance object for more information).\n",
            " |      loc : array_like, optional\n",
            " |          location parameter, Default is 0.\n",
            " |      scale : array_like, optional\n",
            " |          scale parameter, Default is 1.\n",
            " |      \n",
            " |      Returns\n",
            " |      -------\n",
            " |      a, b : ndarray of float\n",
            " |          end-points of range that contain ``100 * alpha %`` of the rv's\n",
            " |          possible values.\n",
            " |  \n",
            " |  mean(self, *args, **kwds)\n",
            " |      Mean of the distribution.\n",
            " |      \n",
            " |      Parameters\n",
            " |      ----------\n",
            " |      arg1, arg2, arg3,... : array_like\n",
            " |          The shape parameter(s) for the distribution (see docstring of the\n",
            " |          instance object for more information)\n",
            " |      loc : array_like, optional\n",
            " |          location parameter (default=0)\n",
            " |      scale : array_like, optional\n",
            " |          scale parameter (default=1)\n",
            " |      \n",
            " |      Returns\n",
            " |      -------\n",
            " |      mean : float\n",
            " |          the mean of the distribution\n",
            " |  \n",
            " |  median(self, *args, **kwds)\n",
            " |      Median of the distribution.\n",
            " |      \n",
            " |      Parameters\n",
            " |      ----------\n",
            " |      arg1, arg2, arg3,... : array_like\n",
            " |          The shape parameter(s) for the distribution (see docstring of the\n",
            " |          instance object for more information)\n",
            " |      loc : array_like, optional\n",
            " |          Location parameter, Default is 0.\n",
            " |      scale : array_like, optional\n",
            " |          Scale parameter, Default is 1.\n",
            " |      \n",
            " |      Returns\n",
            " |      -------\n",
            " |      median : float\n",
            " |          The median of the distribution.\n",
            " |      \n",
            " |      See Also\n",
            " |      --------\n",
            " |      rv_discrete.ppf\n",
            " |          Inverse of the CDF\n",
            " |  \n",
            " |  moment(self, n, *args, **kwds)\n",
            " |      n-th order non-central moment of distribution.\n",
            " |      \n",
            " |      Parameters\n",
            " |      ----------\n",
            " |      n : int, n >= 1\n",
            " |          Order of moment.\n",
            " |      arg1, arg2, arg3,... : float\n",
            " |          The shape parameter(s) for the distribution (see docstring of the\n",
            " |          instance object for more information).\n",
            " |      loc : array_like, optional\n",
            " |          location parameter (default=0)\n",
            " |      scale : array_like, optional\n",
            " |          scale parameter (default=1)\n",
            " |  \n",
            " |  rvs(self, *args, **kwds)\n",
            " |      Random variates of given type.\n",
            " |      \n",
            " |      Parameters\n",
            " |      ----------\n",
            " |      arg1, arg2, arg3,... : array_like\n",
            " |          The shape parameter(s) for the distribution (see docstring of the\n",
            " |          instance object for more information).\n",
            " |      loc : array_like, optional\n",
            " |          Location parameter (default=0).\n",
            " |      scale : array_like, optional\n",
            " |          Scale parameter (default=1).\n",
            " |      size : int or tuple of ints, optional\n",
            " |          Defining number of random variates (default is 1).\n",
            " |      random_state : None or int or ``np.random.RandomState`` instance, optional\n",
            " |          If int or RandomState, use it for drawing the random variates.\n",
            " |          If None, rely on ``self.random_state``.\n",
            " |          Default is None.\n",
            " |      \n",
            " |      Returns\n",
            " |      -------\n",
            " |      rvs : ndarray or scalar\n",
            " |          Random variates of given `size`.\n",
            " |  \n",
            " |  stats(self, *args, **kwds)\n",
            " |      Some statistics of the given RV.\n",
            " |      \n",
            " |      Parameters\n",
            " |      ----------\n",
            " |      arg1, arg2, arg3,... : array_like\n",
            " |          The shape parameter(s) for the distribution (see docstring of the\n",
            " |          instance object for more information)\n",
            " |      loc : array_like, optional\n",
            " |          location parameter (default=0)\n",
            " |      scale : array_like, optional (continuous RVs only)\n",
            " |          scale parameter (default=1)\n",
            " |      moments : str, optional\n",
            " |          composed of letters ['mvsk'] defining which moments to compute:\n",
            " |          'm' = mean,\n",
            " |          'v' = variance,\n",
            " |          's' = (Fisher's) skew,\n",
            " |          'k' = (Fisher's) kurtosis.\n",
            " |          (default is 'mv')\n",
            " |      \n",
            " |      Returns\n",
            " |      -------\n",
            " |      stats : sequence\n",
            " |          of requested moments.\n",
            " |  \n",
            " |  std(self, *args, **kwds)\n",
            " |      Standard deviation of the distribution.\n",
            " |      \n",
            " |      Parameters\n",
            " |      ----------\n",
            " |      arg1, arg2, arg3,... : array_like\n",
            " |          The shape parameter(s) for the distribution (see docstring of the\n",
            " |          instance object for more information)\n",
            " |      loc : array_like, optional\n",
            " |          location parameter (default=0)\n",
            " |      scale : array_like, optional\n",
            " |          scale parameter (default=1)\n",
            " |      \n",
            " |      Returns\n",
            " |      -------\n",
            " |      std : float\n",
            " |          standard deviation of the distribution\n",
            " |  \n",
            " |  support(self, *args, **kwargs)\n",
            " |      Return the support of the distribution.\n",
            " |      \n",
            " |      Parameters\n",
            " |      ----------\n",
            " |      arg1, arg2, ... : array_like\n",
            " |          The shape parameter(s) for the distribution (see docstring of the\n",
            " |          instance object for more information).\n",
            " |      loc : array_like, optional\n",
            " |          location parameter, Default is 0.\n",
            " |      scale : array_like, optional\n",
            " |          scale parameter, Default is 1.\n",
            " |      Returns\n",
            " |      -------\n",
            " |      a, b : float\n",
            " |          end-points of the distribution's support.\n",
            " |  \n",
            " |  var(self, *args, **kwds)\n",
            " |      Variance of the distribution.\n",
            " |      \n",
            " |      Parameters\n",
            " |      ----------\n",
            " |      arg1, arg2, arg3,... : array_like\n",
            " |          The shape parameter(s) for the distribution (see docstring of the\n",
            " |          instance object for more information)\n",
            " |      loc : array_like, optional\n",
            " |          location parameter (default=0)\n",
            " |      scale : array_like, optional\n",
            " |          scale parameter (default=1)\n",
            " |      \n",
            " |      Returns\n",
            " |      -------\n",
            " |      var : float\n",
            " |          the variance of the distribution\n",
            " |  \n",
            " |  ----------------------------------------------------------------------\n",
            " |  Data descriptors inherited from scipy.stats._distn_infrastructure.rv_generic:\n",
            " |  \n",
            " |  __dict__\n",
            " |      dictionary for instance variables (if defined)\n",
            " |  \n",
            " |  __weakref__\n",
            " |      list of weak references to the object (if defined)\n",
            " |  \n",
            " |  random_state\n",
            " |      Get or set the RandomState object for generating random variates.\n",
            " |      \n",
            " |      This can be either None or an existing RandomState object.\n",
            " |      \n",
            " |      If None (or np.random), use the RandomState singleton used by np.random.\n",
            " |      If already a RandomState instance, use it.\n",
            " |      If an int, use a new RandomState instance seeded with seed.\n",
            "\n"
          ],
          "name": "stdout"
        }
      ]
    },
    {
      "cell_type": "markdown",
      "metadata": {
        "id": "dyddpPzn0IIN"
      },
      "source": [
        "__A:__\n",
        "The second listed method is initializer method."
      ]
    },
    {
      "cell_type": "markdown",
      "metadata": {
        "id": "6NzSs-CU0IIN"
      },
      "source": [
        "__Q2:__ Use the method that generates random variates to draw five samples from the standard normal distribution. "
      ]
    },
    {
      "cell_type": "markdown",
      "metadata": {
        "id": "X9a3_xWR0IIO"
      },
      "source": [
        "__A:__"
      ]
    },
    {
      "cell_type": "code",
      "metadata": {
        "colab": {
          "base_uri": "https://localhost:8080/"
        },
        "id": "aYUSGbIx0IIO",
        "outputId": "40e46ef2-30da-4aa5-84b7-b0d42b0b8742"
      },
      "source": [
        "seed(47)\n",
        "# draw five samples here\n",
        "small_sample = np.array(norm.rvs(size=5))\n",
        "small_sample"
      ],
      "execution_count": 22,
      "outputs": [
        {
          "output_type": "execute_result",
          "data": {
            "text/plain": [
              "array([-0.84800948,  1.30590636,  0.92420797,  0.6404118 , -1.05473698])"
            ]
          },
          "metadata": {
            "tags": []
          },
          "execution_count": 22
        }
      ]
    },
    {
      "cell_type": "markdown",
      "metadata": {
        "id": "4GKuFZRE0IIO"
      },
      "source": [
        "__Q3:__ What is the mean of this sample? Is it exactly equal to the value you expected? Hint: the sample was drawn from the standard normal distribution. If you want a reminder of the properties of this distribution, check out p. 85 of *AoS*. "
      ]
    },
    {
      "cell_type": "markdown",
      "metadata": {
        "id": "dkMVlF4_0IIO"
      },
      "source": [
        "__A:__\n",
        "The mean doesn't equal to the value I was expecting."
      ]
    },
    {
      "cell_type": "code",
      "metadata": {
        "colab": {
          "base_uri": "https://localhost:8080/"
        },
        "id": "Nw0kKEpA0IIP",
        "outputId": "4b9db508-9e46-43d2-ede3-5f1272cb4b58"
      },
      "source": [
        "# Calculate and print the mean here, hint: use np.mean()\n",
        "np.mean(small_sample)"
      ],
      "execution_count": 23,
      "outputs": [
        {
          "output_type": "execute_result",
          "data": {
            "text/plain": [
              "0.19355593334131074"
            ]
          },
          "metadata": {
            "tags": []
          },
          "execution_count": 23
        }
      ]
    },
    {
      "cell_type": "markdown",
      "metadata": {
        "id": "rpTlf6Xg0IIP"
      },
      "source": [
        "__Q4:__ What is the standard deviation of these numbers? Calculate this manually here as $\\sqrt{\\frac{\\sum_i(x_i - \\bar{x})^2}{n}}$ (This is just the definition of **standard deviation** given by Professor Spiegelhalter on p.403 of *AoS*). Hint: np.sqrt() and np.sum() will be useful here and remember that numPy supports [broadcasting](https://docs.scipy.org/doc/numpy/user/basics.broadcasting.html)."
      ]
    },
    {
      "cell_type": "markdown",
      "metadata": {
        "id": "GBl4RqfD0IIP"
      },
      "source": [
        "__A:__"
      ]
    },
    {
      "cell_type": "code",
      "metadata": {
        "colab": {
          "base_uri": "https://localhost:8080/"
        },
        "id": "3o6beYuW0IIP",
        "outputId": "3621d656-e171-4756-e5da-11b3dd3a8c6d"
      },
      "source": [
        "np.sqrt(((small_sample - np.mean(small_sample)) ** 2).sum() / len(small_sample))"
      ],
      "execution_count": 24,
      "outputs": [
        {
          "output_type": "execute_result",
          "data": {
            "text/plain": [
              "0.9606195639478641"
            ]
          },
          "metadata": {
            "tags": []
          },
          "execution_count": 24
        }
      ]
    },
    {
      "cell_type": "markdown",
      "metadata": {
        "id": "0Ud6aCj40IIP"
      },
      "source": [
        "Here we have calculated the actual standard deviation of a small data set (of size 5). But in this case, this small data set is actually a sample from our larger (infinite) population. In this case, the population is infinite because we could keep drawing our normal random variates until our computers die! \n",
        "\n",
        "In general, the sample mean we calculate will not be equal to the population mean (as we saw above). A consequence of this is that the sum of squares of the deviations from the _population_ mean will be bigger than the sum of squares of the deviations from the _sample_ mean. In other words, the sum of squares of the deviations from the _sample_ mean is too small to give an unbiased estimate of the _population_ variance. An example of this effect is given [here](https://en.wikipedia.org/wiki/Bessel%27s_correction#Source_of_bias). Scaling our estimate of the variance by the factor $n/(n-1)$ gives an unbiased estimator of the population variance. This factor is known as [Bessel's correction](https://en.wikipedia.org/wiki/Bessel%27s_correction). The consequence of this is that the $n$ in the denominator is replaced by $n-1$.\n",
        "\n",
        "You can see Bessel's correction reflected in Professor Spiegelhalter's definition of **variance** on p. 405 of *AoS*.\n",
        "\n",
        "__Q5:__ If all we had to go on was our five samples, what would be our best estimate of the population standard deviation? Use Bessel's correction ($n-1$ in the denominator), thus $\\sqrt{\\frac{\\sum_i(x_i - \\bar{x})^2}{n-1}}$."
      ]
    },
    {
      "cell_type": "markdown",
      "metadata": {
        "id": "C10mY23P0IIQ"
      },
      "source": [
        "__A:__"
      ]
    },
    {
      "cell_type": "code",
      "metadata": {
        "colab": {
          "base_uri": "https://localhost:8080/"
        },
        "id": "P7xtrVsn0IIQ",
        "outputId": "4959ee7d-446f-44aa-b7a3-944db88b72f4"
      },
      "source": [
        "np.sqrt(((small_sample - np.mean(small_sample)) ** 2).sum() / (len(small_sample)-1))"
      ],
      "execution_count": 25,
      "outputs": [
        {
          "output_type": "execute_result",
          "data": {
            "text/plain": [
              "1.0740053227518152"
            ]
          },
          "metadata": {
            "tags": []
          },
          "execution_count": 25
        }
      ]
    },
    {
      "cell_type": "markdown",
      "metadata": {
        "id": "msSPLZsr0IIQ"
      },
      "source": [
        "__Q6:__ Now use numpy's std function to calculate the standard deviation of our random samples. Which of the above standard deviations did it return?"
      ]
    },
    {
      "cell_type": "markdown",
      "metadata": {
        "id": "VZF8R89P0IIQ"
      },
      "source": [
        "__A:__"
      ]
    },
    {
      "cell_type": "code",
      "metadata": {
        "colab": {
          "base_uri": "https://localhost:8080/"
        },
        "id": "QOYuEU9D0IIR",
        "outputId": "3e5514d5-d1c8-46fa-80d8-114bd0bd83e8"
      },
      "source": [
        "small_sample.std()"
      ],
      "execution_count": 26,
      "outputs": [
        {
          "output_type": "execute_result",
          "data": {
            "text/plain": [
              "0.9606195639478641"
            ]
          },
          "metadata": {
            "tags": []
          },
          "execution_count": 26
        }
      ]
    },
    {
      "cell_type": "markdown",
      "metadata": {
        "id": "83pHHf6T0IIR"
      },
      "source": [
        "__Q7:__ Consult the documentation for np.std() to see how to apply the correction for estimating the population parameter and verify this produces the expected result."
      ]
    },
    {
      "cell_type": "markdown",
      "metadata": {
        "id": "2A-07ORk0IIR"
      },
      "source": [
        "__A:__"
      ]
    },
    {
      "cell_type": "code",
      "metadata": {
        "colab": {
          "base_uri": "https://localhost:8080/"
        },
        "id": "AV0BtHlp0IIR",
        "outputId": "7c07cf99-7b15-4318-e87c-6f55260a0f6f"
      },
      "source": [
        "small_sample.std(ddof=1)"
      ],
      "execution_count": 27,
      "outputs": [
        {
          "output_type": "execute_result",
          "data": {
            "text/plain": [
              "1.0740053227518152"
            ]
          },
          "metadata": {
            "tags": []
          },
          "execution_count": 27
        }
      ]
    },
    {
      "cell_type": "markdown",
      "metadata": {
        "id": "7BiNp3Cr0IIR"
      },
      "source": [
        "### Summary of section"
      ]
    },
    {
      "cell_type": "markdown",
      "metadata": {
        "id": "qbh3_6qb0IIS"
      },
      "source": [
        "In this section, you've been introduced to the scipy.stats package and used it to draw a small sample from the standard normal distribution. You've calculated the average (the mean) of this sample and seen that this is not exactly equal to the expected population parameter (which we know because we're generating the random variates from a specific, known distribution). You've been introduced to two ways of calculating the standard deviation; one uses $n$ in the denominator and the other uses $n-1$ (Bessel's correction). You've also seen which of these calculations np.std() performs by default and how to get it to generate the other."
      ]
    },
    {
      "cell_type": "markdown",
      "metadata": {
        "id": "kmt1gYeT0IIS"
      },
      "source": [
        "You use $n$ as the denominator if you want to calculate the standard deviation of a sequence of numbers. You use $n-1$ if you are using this sequence of numbers to estimate the population parameter. This brings us to some terminology that can be a little confusing.\n",
        "\n",
        "The population parameter is traditionally written as $\\sigma$ and the sample statistic as $s$. Rather unhelpfully, $s$ is also called the sample standard deviation (using $n-1$) whereas the standard deviation of the sample uses $n$. That's right, we have the sample standard deviation and the standard deviation of the sample and they're not the same thing!\n",
        "\n",
        "The sample standard deviation\n",
        "\\begin{equation}\n",
        "s = \\sqrt{\\frac{\\sum_i(x_i - \\bar{x})^2}{n-1}} \\approx \\sigma,\n",
        "\\end{equation}\n",
        "is our best (unbiased) estimate of the population parameter ($\\sigma$).\n",
        "\n",
        "If your dataset _is_ your entire population, you simply want to calculate the population parameter, $\\sigma$, via\n",
        "\\begin{equation}\n",
        "\\sigma = \\sqrt{\\frac{\\sum_i(x_i - \\bar{x})^2}{n}}\n",
        "\\end{equation}\n",
        "as you have complete, full knowledge of your population. In other words, your sample _is_ your population. It's worth noting that we're dealing with what Professor Spiegehalter describes on p. 92 of *AoS* as a **metaphorical population**: we have all the data, and we act as if the data-point is taken from a population at random. We can think of this population as an imaginary space of possibilities. \n",
        "\n",
        "If, however, you have sampled _from_ your population, you only have partial knowledge of the state of your population. In this case, the standard deviation of your sample is not an unbiased estimate of the standard deviation of the population, in which case you seek to estimate that population parameter via the sample standard deviation, which uses the $n-1$ denominator."
      ]
    },
    {
      "cell_type": "markdown",
      "metadata": {
        "id": "jqgl60xZ0IIS"
      },
      "source": [
        "Great work so far! Now let's dive deeper."
      ]
    },
    {
      "cell_type": "markdown",
      "metadata": {
        "id": "H4hPvxAR0IIT"
      },
      "source": [
        "## 3. Sampling distributions"
      ]
    },
    {
      "cell_type": "markdown",
      "metadata": {
        "id": "sN3Sbbph0IIT"
      },
      "source": [
        "So far we've been dealing with the concept of taking a sample from a population to infer the population parameters. One statistic we calculated for a sample was the mean. As our samples will be expected to vary from one draw to another, so will our sample statistics. If we were to perform repeat draws of size $n$ and calculate the mean of each, we would expect to obtain a distribution of values. This is the sampling distribution of the mean. **The Central Limit Theorem (CLT)** tells us that such a distribution will approach a normal distribution as $n$ increases (the intuitions behind the CLT are covered in full on p. 236 of *AoS*). For the sampling distribution of the mean, the standard deviation of this distribution is given by\n",
        "\n",
        "\\begin{equation}\n",
        "\\sigma_{mean} = \\frac{\\sigma}{\\sqrt n}\n",
        "\\end{equation}\n",
        "\n",
        "where $\\sigma_{mean}$ is the standard deviation of the sampling distribution of the mean and $\\sigma$ is the standard deviation of the population (the population parameter)."
      ]
    },
    {
      "cell_type": "markdown",
      "metadata": {
        "id": "S4pFvfyi0IIU"
      },
      "source": [
        "This is important because typically we are dealing with samples from populations and all we know about the population is what we see in the sample. From this sample, we want to make inferences about the population. We may do this, for example, by looking at the histogram of the values and by calculating the mean and standard deviation (as estimates of the population parameters), and so we are intrinsically interested in how these quantities vary across samples. \n",
        "\n",
        "In other words, now that we've taken one sample of size $n$ and made some claims about the general population, what if we were to take another sample of size $n$? Would we get the same result? Would we make the same claims about the general population? This brings us to a fundamental question: _when we make some inference about a population based on our sample, how confident can we be that we've got it 'right'?_\n",
        "\n",
        "We need to think about **estimates and confidence intervals**: those concepts covered in Chapter 7, p. 189, of *AoS*."
      ]
    },
    {
      "cell_type": "markdown",
      "metadata": {
        "id": "v0f_2hgK0IIU"
      },
      "source": [
        "Now, the standard normal distribution (with its variance equal to its standard deviation of one) would not be a great illustration of a key point. Instead, let's imagine we live in a town of 50,000 people and we know the height of everyone in this town. We will have 50,000 numbers that tell us everything about our population. We'll simulate these numbers now and put ourselves in one particular town, called 'town 47', where the population mean height is 172 cm and population standard deviation is 5 cm."
      ]
    },
    {
      "cell_type": "code",
      "metadata": {
        "id": "_jlJzs0u0IIU"
      },
      "source": [
        "seed(47)\n",
        "pop_heights = norm.rvs(172, 5, size=50000)"
      ],
      "execution_count": 28,
      "outputs": []
    },
    {
      "cell_type": "code",
      "metadata": {
        "colab": {
          "base_uri": "https://localhost:8080/",
          "height": 295
        },
        "id": "UevFy3VC0IIU",
        "outputId": "308f9939-327f-4d44-f9a4-4ea66e94a7dd"
      },
      "source": [
        "_ = plt.hist(pop_heights, bins=30)\n",
        "_ = plt.xlabel('height (cm)')\n",
        "_ = plt.ylabel('number of people')\n",
        "_ = plt.title('Distribution of heights in entire town population')\n",
        "_ = plt.axvline(172, color='r')\n",
        "_ = plt.axvline(172+5, color='r', linestyle='--')\n",
        "_ = plt.axvline(172-5, color='r', linestyle='--')\n",
        "_ = plt.axvline(172+10, color='r', linestyle='-.')\n",
        "_ = plt.axvline(172-10, color='r', linestyle='-.')"
      ],
      "execution_count": 29,
      "outputs": [
        {
          "output_type": "display_data",
          "data": {
            "image/png": "[encoded data removed]",
            "text/plain": [
              "<Figure size 432x288 with 1 Axes>"
            ]
          },
          "metadata": {
            "tags": [],
            "needs_background": "light"
          }
        }
      ]
    },
    {
      "cell_type": "markdown",
      "metadata": {
        "id": "Jcq4XhC00IIW"
      },
      "source": [
        "Now, 50,000 people is rather a lot to chase after with a tape measure. If all you want to know is the average height of the townsfolk, then can you just go out and measure a sample to get a pretty good estimate of the average height?"
      ]
    },
    {
      "cell_type": "code",
      "metadata": {
        "id": "gXWFSISb0IIW"
      },
      "source": [
        "def townsfolk_sampler(n):\n",
        "    return np.random.choice(pop_heights, n)"
      ],
      "execution_count": 30,
      "outputs": []
    },
    {
      "cell_type": "markdown",
      "metadata": {
        "id": "MhvAyU5o0IIW"
      },
      "source": [
        "Let's say you go out one day and randomly sample 10 people to measure."
      ]
    },
    {
      "cell_type": "code",
      "metadata": {
        "id": "K4kANQtf0IIX"
      },
      "source": [
        "seed(47)\n",
        "daily_sample1 = townsfolk_sampler(10)"
      ],
      "execution_count": 31,
      "outputs": []
    },
    {
      "cell_type": "code",
      "metadata": {
        "colab": {
          "base_uri": "https://localhost:8080/",
          "height": 295
        },
        "id": "zzKVPWVt0IIX",
        "outputId": "d48a74b2-8439-4098-f0c4-928190142029"
      },
      "source": [
        "_ = plt.hist(daily_sample1, bins=10)\n",
        "_ = plt.xlabel('height (cm)')\n",
        "_ = plt.ylabel('number of people')\n",
        "_ = plt.title('Distribution of heights in sample size 10')"
      ],
      "execution_count": 32,
      "outputs": [
        {
          "output_type": "display_data",
          "data": {
            "image/png": "[encoded data removed]",
            "text/plain": [
              "<Figure size 432x288 with 1 Axes>"
            ]
          },
          "metadata": {
            "tags": [],
            "needs_background": "light"
          }
        }
      ]
    },
    {
      "cell_type": "markdown",
      "metadata": {
        "id": "BwH2LpGN0IIY"
      },
      "source": [
        "The sample distribution doesn't resemble what we take the population distribution to be. What do we get for the mean?"
      ]
    },
    {
      "cell_type": "code",
      "metadata": {
        "colab": {
          "base_uri": "https://localhost:8080/"
        },
        "id": "MfMhWqNE0IIY",
        "outputId": "4e41ac26-2360-483c-a7f8-6c31e16c7971"
      },
      "source": [
        "np.mean(daily_sample1)"
      ],
      "execution_count": 33,
      "outputs": [
        {
          "output_type": "execute_result",
          "data": {
            "text/plain": [
              "173.47911444163503"
            ]
          },
          "metadata": {
            "tags": []
          },
          "execution_count": 33
        }
      ]
    },
    {
      "cell_type": "markdown",
      "metadata": {
        "id": "uZONN35-0IIY"
      },
      "source": [
        "And if we went out and repeated this experiment?"
      ]
    },
    {
      "cell_type": "code",
      "metadata": {
        "id": "pl-iRKFC0IIY"
      },
      "source": [
        "daily_sample2 = townsfolk_sampler(10)"
      ],
      "execution_count": 34,
      "outputs": []
    },
    {
      "cell_type": "code",
      "metadata": {
        "colab": {
          "base_uri": "https://localhost:8080/"
        },
        "id": "tzZ4JsqA0IIY",
        "outputId": "34d204db-a729-4b0d-aaba-252eeb987131"
      },
      "source": [
        "np.mean(daily_sample2)"
      ],
      "execution_count": 35,
      "outputs": [
        {
          "output_type": "execute_result",
          "data": {
            "text/plain": [
              "173.7317666636263"
            ]
          },
          "metadata": {
            "tags": []
          },
          "execution_count": 35
        }
      ]
    },
    {
      "cell_type": "markdown",
      "metadata": {
        "id": "6m6eg-b30IIZ"
      },
      "source": [
        "__Q8:__ Simulate performing this random trial every day for a year, calculating the mean of each daily sample of 10, and plot the resultant sampling distribution of the mean."
      ]
    },
    {
      "cell_type": "markdown",
      "metadata": {
        "id": "fBAEjO2h0IIZ"
      },
      "source": [
        "__A:__"
      ]
    },
    {
      "cell_type": "code",
      "metadata": {
        "id": "tbe-XJYg0IIZ"
      },
      "source": [
        "seed(47)\n",
        "# take your samples here\n",
        "daily_sample_means = np.array([np.mean(townsfolk_sampler(10)) for i in range(365)])"
      ],
      "execution_count": 36,
      "outputs": []
    },
    {
      "cell_type": "code",
      "metadata": {
        "colab": {
          "base_uri": "https://localhost:8080/",
          "height": 295
        },
        "id": "ByAfMFFS0IIZ",
        "outputId": "97dbe4a7-a2d0-4d72-ce06-1de2002d596e"
      },
      "source": [
        "_ = plt.hist(daily_sample_means, bins=10)\n",
        "_ = plt.xlabel('height (cm)')\n",
        "_ = plt.ylabel('number of people')\n",
        "_ = plt.title('Distribution of mean heights of samples with size 10')"
      ],
      "execution_count": 37,
      "outputs": [
        {
          "output_type": "display_data",
          "data": {
            "image/png": "[encoded data removed]",
            "text/plain": [
              "<Figure size 432x288 with 1 Axes>"
            ]
          },
          "metadata": {
            "tags": [],
            "needs_background": "light"
          }
        }
      ]
    },
    {
      "cell_type": "markdown",
      "metadata": {
        "id": "lL3ZFWAg0IIZ"
      },
      "source": [
        "The above is the distribution of the means of samples of size 10 taken from our population. The Central Limit Theorem tells us the expected mean of this distribution will be equal to the population mean, and standard deviation will be $\\sigma / \\sqrt n$, which, in this case, should be approximately 1.58."
      ]
    },
    {
      "cell_type": "markdown",
      "metadata": {
        "id": "qqaM9E4g0IIa"
      },
      "source": [
        "__Q9:__ Verify the above results from the CLT."
      ]
    },
    {
      "cell_type": "markdown",
      "metadata": {
        "id": "JbmBuIFk0IIa"
      },
      "source": [
        "__A:__"
      ]
    },
    {
      "cell_type": "code",
      "metadata": {
        "colab": {
          "base_uri": "https://localhost:8080/"
        },
        "id": "hX-PFQ8V0IIa",
        "outputId": "d8f7c05d-932d-41fe-94e4-d033f9caf09d"
      },
      "source": [
        "daily_sample_means.std(ddof=1)"
      ],
      "execution_count": 38,
      "outputs": [
        {
          "output_type": "execute_result",
          "data": {
            "text/plain": [
              "1.5778333114768472"
            ]
          },
          "metadata": {
            "tags": []
          },
          "execution_count": 38
        }
      ]
    },
    {
      "cell_type": "markdown",
      "metadata": {
        "id": "cT_rajMn0IIa"
      },
      "source": [
        "Remember, in this instance, we knew our population parameters, that the average height really is 172 cm and the standard deviation is 5 cm, and we see some of our daily estimates of the population mean were as low as around 168 and some as high as 176."
      ]
    },
    {
      "cell_type": "markdown",
      "metadata": {
        "id": "fwY7eAJF0IIa"
      },
      "source": [
        "__Q10:__ Repeat the above year's worth of samples but for a sample size of 50 (perhaps you had a bigger budget for conducting surveys that year)! Would you expect your distribution of sample means to be wider (more variable) or narrower (more consistent)? Compare your resultant summary statistics to those predicted by the CLT."
      ]
    },
    {
      "cell_type": "markdown",
      "metadata": {
        "id": "sVIx1aUs0IIa"
      },
      "source": [
        "__A:__"
      ]
    },
    {
      "cell_type": "code",
      "metadata": {
        "id": "_5edUsVr0IIb"
      },
      "source": [
        "seed(47)\n",
        "# calculate daily means from the larger sample size here\n",
        "daily_sample_means = np.array([np.mean(townsfolk_sampler(50)) for i in range(365)])"
      ],
      "execution_count": 39,
      "outputs": []
    },
    {
      "cell_type": "code",
      "metadata": {
        "colab": {
          "base_uri": "https://localhost:8080/",
          "height": 295
        },
        "id": "cPTwrFjG0IIb",
        "outputId": "4d02adf0-27cd-4daf-855c-a09278f1bd12"
      },
      "source": [
        "_ = plt.hist(daily_sample_means, bins=10)\n",
        "_ = plt.xlabel('height (cm)')\n",
        "_ = plt.ylabel('number of people')\n",
        "_ = plt.title('Distribution of mean heights of samples with size 10')"
      ],
      "execution_count": 40,
      "outputs": [
        {
          "output_type": "display_data",
          "data": {
            "image/png": "[encoded data removed]",
            "text/plain": [
              "<Figure size 432x288 with 1 Axes>"
            ]
          },
          "metadata": {
            "tags": [],
            "needs_background": "light"
          }
        }
      ]
    },
    {
      "cell_type": "markdown",
      "metadata": {
        "id": "sGZdjg2q0IIb"
      },
      "source": [
        "What we've seen so far, then, is that we can estimate population parameters from a sample from the population, and that samples have their own distributions. Furthermore, the larger the sample size, the narrower are those sampling distributions."
      ]
    },
    {
      "cell_type": "markdown",
      "metadata": {
        "id": "VpEQ0lsz0IIb"
      },
      "source": [
        "### Normally testing time!"
      ]
    },
    {
      "cell_type": "markdown",
      "metadata": {
        "id": "MRPClcYe0IIb"
      },
      "source": [
        "All of the above is well and good. We've been sampling from a population we know is normally distributed, we've come to understand when to use $n$ and when to use $n-1$ in the denominator to calculate the spread of a distribution, and we've  seen the Central Limit Theorem in action for a sampling distribution. All seems very well behaved in Frequentist land. But, well, why should we really care?"
      ]
    },
    {
      "cell_type": "markdown",
      "metadata": {
        "id": "zLTvYdrr0IIb"
      },
      "source": [
        "Remember, we rarely (if ever) actually know our population parameters but we still have to estimate them somehow. If we want to make inferences to conclusions like \"this observation is unusual\" or \"my population mean has changed\" then we need to have some idea of what the underlying distribution is so we can calculate relevant probabilities. In frequentist inference, we use the formulae above to deduce these population parameters. Take a moment in the next part of this assignment to refresh your understanding of how these probabilities work."
      ]
    },
    {
      "cell_type": "markdown",
      "metadata": {
        "id": "8JFnywpH0IIb"
      },
      "source": [
        "Recall some basic properties of the standard normal distribution, such as that about 68% of observations are within plus or minus 1 standard deviation of the mean. Check out the precise definition of a normal distribution on p. 394 of *AoS*. \n",
        "\n",
        "__Q11:__ Using this fact, calculate the probability of observing the value 1 or less in a single observation from the standard normal distribution. Hint: you may find it helpful to sketch the standard normal distribution (the familiar bell shape) and mark the number of standard deviations from the mean on the x-axis and shade the regions of the curve that contain certain percentages of the population."
      ]
    },
    {
      "cell_type": "markdown",
      "metadata": {
        "id": "Fel7setm0IIc"
      },
      "source": [
        "__A:__"
      ]
    },
    {
      "cell_type": "code",
      "metadata": {
        "colab": {
          "base_uri": "https://localhost:8080/"
        },
        "id": "PMCbRvIv6G_c",
        "outputId": "fe304762-2159-4aba-d59a-4937e2449dd7"
      },
      "source": [
        "1 - (1 - 0.68) / 2"
      ],
      "execution_count": 41,
      "outputs": [
        {
          "output_type": "execute_result",
          "data": {
            "text/plain": [
              "0.8400000000000001"
            ]
          },
          "metadata": {
            "tags": []
          },
          "execution_count": 41
        }
      ]
    },
    {
      "cell_type": "markdown",
      "metadata": {
        "id": "3wkp4Bga0IIc"
      },
      "source": [
        "Calculating this probability involved calculating the area under the curve from the value of 1 and below. To put it in mathematical terms, we need to *integrate* the probability density function. We could just add together the known areas of chunks (from -Inf to 0 and then 0 to $+\\sigma$ in the example above). One way to do this is to look up tables (literally). Fortunately, scipy has this functionality built in with the cdf() function."
      ]
    },
    {
      "cell_type": "markdown",
      "metadata": {
        "id": "RIzLUAGS0IIc"
      },
      "source": [
        "__Q12:__ Use the cdf() function to answer the question above again and verify you get the same answer."
      ]
    },
    {
      "cell_type": "markdown",
      "metadata": {
        "id": "30SsJptz0IIc"
      },
      "source": [
        "__A:__"
      ]
    },
    {
      "cell_type": "code",
      "metadata": {
        "colab": {
          "base_uri": "https://localhost:8080/"
        },
        "id": "i48ZnFtZ0IIc",
        "outputId": "ae7edc69-679c-4155-decc-18dd087b7fe5"
      },
      "source": [
        "norm.cdf(1)"
      ],
      "execution_count": 42,
      "outputs": [
        {
          "output_type": "execute_result",
          "data": {
            "text/plain": [
              "0.8413447460685429"
            ]
          },
          "metadata": {
            "tags": []
          },
          "execution_count": 42
        }
      ]
    },
    {
      "cell_type": "markdown",
      "metadata": {
        "id": "A64U7Tvf0IIc"
      },
      "source": [
        "__Q13:__ Using our knowledge of the population parameters for our townsfolks' heights, what is the probability of selecting one person at random and their height being 177 cm or less? Calculate this using both of the approaches given above."
      ]
    },
    {
      "cell_type": "markdown",
      "metadata": {
        "id": "kc5Yg8th0IIc"
      },
      "source": [
        "__A:__"
      ]
    },
    {
      "cell_type": "code",
      "metadata": {
        "colab": {
          "base_uri": "https://localhost:8080/"
        },
        "id": "EZxnna5_0IId",
        "outputId": "8c90b22a-f977-4c28-d66b-cf75947bf824"
      },
      "source": [
        "norm(172, 5).cdf(177)"
      ],
      "execution_count": 43,
      "outputs": [
        {
          "output_type": "execute_result",
          "data": {
            "text/plain": [
              "0.8413447460685429"
            ]
          },
          "metadata": {
            "tags": []
          },
          "execution_count": 43
        }
      ]
    },
    {
      "cell_type": "code",
      "metadata": {
        "colab": {
          "base_uri": "https://localhost:8080/"
        },
        "id": "iOCfSBoK6h_f",
        "outputId": "99c59f28-9e30-4dd8-d320-15a379b63fd7"
      },
      "source": [
        "1 - (1 - 0.68) / 2"
      ],
      "execution_count": 45,
      "outputs": [
        {
          "output_type": "execute_result",
          "data": {
            "text/plain": [
              "0.8400000000000001"
            ]
          },
          "metadata": {
            "tags": []
          },
          "execution_count": 45
        }
      ]
    },
    {
      "cell_type": "markdown",
      "metadata": {
        "id": "aeMwHWII0IId"
      },
      "source": [
        "__Q14:__ Turning this question around — suppose we randomly pick one person and measure their height and find they are 2.00 m tall. How surprised should we be at this result, given what we know about the population distribution? In other words, how likely would it be to obtain a value at least as extreme as this? Express this as a probability. "
      ]
    },
    {
      "cell_type": "markdown",
      "metadata": {
        "id": "YvNGdGGb0IId"
      },
      "source": [
        "__A:__\n",
        "the probability of obtaining a measurement more than 2m is less than 1.07e-8"
      ]
    },
    {
      "cell_type": "code",
      "metadata": {
        "colab": {
          "base_uri": "https://localhost:8080/"
        },
        "id": "3KbEObct0IId",
        "outputId": "46c22f7b-7cc8-40fb-c8ad-631f956bd203"
      },
      "source": [
        "1 - norm(172, 5).cdf(200)"
      ],
      "execution_count": 46,
      "outputs": [
        {
          "output_type": "execute_result",
          "data": {
            "text/plain": [
              "1.0717590259723409e-08"
            ]
          },
          "metadata": {
            "tags": []
          },
          "execution_count": 46
        }
      ]
    },
    {
      "cell_type": "markdown",
      "metadata": {
        "id": "0jRBSj0h0IId"
      },
      "source": [
        "What we've just done is calculate the ***p-value*** of the observation of someone 2.00m tall (review *p*-values if you need to on p. 399 of *AoS*). We could calculate this probability by virtue of knowing the population parameters. We were then able to use the known properties of the relevant normal distribution to calculate the probability of observing a value at least as extreme as our test value."
      ]
    },
    {
      "cell_type": "markdown",
      "metadata": {
        "id": "xVWYfSij0IId"
      },
      "source": [
        "We're about to come to a pinch, though. We've said a couple of times that we rarely, if ever, know the true population parameters; we have to estimate them from our sample and we cannot even begin to estimate the standard deviation from a single observation. \n",
        "\n",
        "This is very true and usually we have sample sizes larger than one. This means we can calculate the mean of the sample as our best estimate of the population mean and the standard deviation as our best estimate of the population standard deviation. \n",
        "\n",
        "In other words, we are now coming to deal with the sampling distributions we mentioned above as we are generally concerned with the properties of the sample means we obtain. \n",
        "\n",
        "Above, we highlighted one result from the CLT, whereby the sampling distribution (of the mean) becomes narrower and narrower with the square root of the sample size. We remind ourselves that another result from the CLT is that _even if the underlying population distribution is not normal, the sampling distribution will tend to become normal with sufficiently large sample size_. (**Check out p. 199 of AoS if you need to revise this**). This is the key driver for us 'requiring' a certain sample size, for example you may frequently see a minimum sample size of 30 stated in many places. In reality this is simply a rule of thumb; if the underlying distribution is approximately normal then your sampling distribution will already be pretty normal, but if the underlying distribution is heavily skewed then you'd want to increase your sample size."
      ]
    },
    {
      "cell_type": "markdown",
      "metadata": {
        "id": "2TNdjZQL0IIe"
      },
      "source": [
        "__Q15:__ Let's now start from the position of knowing nothing about the heights of people in our town.\n",
        "* Use the random seed of 47, to randomly sample the heights of 50 townsfolk\n",
        "* Estimate the population mean using np.mean\n",
        "* Estimate the population standard deviation using np.std (remember which denominator to use!)\n",
        "* Calculate the (95%) [margin of error](https://www.statisticshowto.datasciencecentral.com/probability-and-statistics/hypothesis-testing/margin-of-error/#WhatMofE) (use the exact critial z value to 2 decimal places - [look this up](https://www.statisticshowto.datasciencecentral.com/probability-and-statistics/find-critical-values/) or use norm.ppf()) Recall that the ***margin of error*** is mentioned on p. 189 of the *AoS* and discussed in depth in that chapter). \n",
        "* Calculate the 95% Confidence Interval of the mean (***confidence intervals*** are defined on p. 385 of *AoS*) \n",
        "* Does this interval include the true population mean?"
      ]
    },
    {
      "cell_type": "code",
      "metadata": {
        "id": "U4m5eNaV0IIe"
      },
      "source": [
        "seed(47)\n",
        "# take your sample now\n",
        "samples = townsfolk_sampler(50)"
      ],
      "execution_count": 47,
      "outputs": []
    },
    {
      "cell_type": "code",
      "metadata": {
        "colab": {
          "base_uri": "https://localhost:8080/"
        },
        "id": "hBw7fscO0IIe",
        "outputId": "51de33f6-0554-470d-8bcb-e4f0ab6ac137"
      },
      "source": [
        "print(np.mean(samples))"
      ],
      "execution_count": 51,
      "outputs": [
        {
          "output_type": "stream",
          "text": [
            "172.7815108576788\n"
          ],
          "name": "stdout"
        }
      ]
    },
    {
      "cell_type": "code",
      "metadata": {
        "colab": {
          "base_uri": "https://localhost:8080/"
        },
        "id": "RTux5sML0IIe",
        "outputId": "fe6515c1-59c8-44a9-a9b0-2ca67f79ab9d"
      },
      "source": [
        "print(np.std(samples,ddof=1))"
      ],
      "execution_count": 54,
      "outputs": [
        {
          "output_type": "stream",
          "text": [
            "4.195424364433547\n"
          ],
          "name": "stdout"
        }
      ]
    },
    {
      "cell_type": "code",
      "metadata": {
        "colab": {
          "base_uri": "https://localhost:8080/"
        },
        "id": "zWnf4r3k0IIe",
        "outputId": "2482091d-405a-4293-a737-b7695d0bf35e"
      },
      "source": [
        "print(norm(np.mean(samples), np.std(samples,ddof=1)).ppf([0.025, 0.975]))"
      ],
      "execution_count": 55,
      "outputs": [
        {
          "output_type": "stream",
          "text": [
            "[164.5586302  181.00439151]\n"
          ],
          "name": "stdout"
        }
      ]
    },
    {
      "cell_type": "code",
      "metadata": {
        "colab": {
          "base_uri": "https://localhost:8080/"
        },
        "id": "5v7QwnCU8lFm",
        "outputId": "3bcb1278-a4b4-40d6-c08f-c3884c2f447e"
      },
      "source": [
        "print(norm(np.mean(samples), np.std(samples,ddof=1) / np.sqrt(50)).ppf([0.025, 0.975]))"
      ],
      "execution_count": 61,
      "outputs": [
        {
          "output_type": "stream",
          "text": [
            "[171.61861992 173.94440179]\n"
          ],
          "name": "stdout"
        }
      ]
    },
    {
      "cell_type": "markdown",
      "metadata": {
        "id": "0axaB-jR0IIe"
      },
      "source": [
        "__A:__\n",
        "this interval includes the true population mean"
      ]
    },
    {
      "cell_type": "markdown",
      "metadata": {
        "id": "WS3uGCfD0IIf"
      },
      "source": [
        "__Q16:__ Above, we calculated the confidence interval using the critical z value. What is the problem with this? What requirement, or requirements, are we (strictly) failing?"
      ]
    },
    {
      "cell_type": "markdown",
      "metadata": {
        "id": "uWGzywb60IIf"
      },
      "source": [
        "__A:__\n",
        "We did not know the population parameters, and used sample statistics instead."
      ]
    },
    {
      "cell_type": "markdown",
      "metadata": {
        "id": "p0dEaI8X0IIf"
      },
      "source": [
        "__Q17:__ Calculate the 95% confidence interval for the mean using the _t_ distribution. Is this wider or narrower than that based on the normal distribution above? If you're unsure, you may find this [resource](https://www.statisticshowto.datasciencecentral.com/probability-and-statistics/confidence-interval/) useful. For calculating the critical value, remember how you could calculate this for the normal distribution using norm.ppf()."
      ]
    },
    {
      "cell_type": "markdown",
      "metadata": {
        "id": "DIBYNfFL0IIf"
      },
      "source": [
        "__A:__\n",
        "The confidence interval is wider than that based on normal distributions"
      ]
    },
    {
      "cell_type": "code",
      "metadata": {
        "colab": {
          "base_uri": "https://localhost:8080/"
        },
        "id": "P2Siuy9w0IIf",
        "outputId": "0c5592b1-5e8d-4bad-ef72-0b25ea8f18c7"
      },
      "source": [
        "df = 49\n",
        "critical_values = t(df).ppf([0.025, 0.975])\n",
        "critical_values * np.std(samples,ddof=1) / np.sqrt(50) + np.mean(samples)"
      ],
      "execution_count": 63,
      "outputs": [
        {
          "output_type": "execute_result",
          "data": {
            "text/plain": [
              "array([171.58918445, 173.97383727])"
            ]
          },
          "metadata": {
            "tags": []
          },
          "execution_count": 63
        }
      ]
    },
    {
      "cell_type": "markdown",
      "metadata": {
        "id": "nb9GwtG90IIg"
      },
      "source": [
        "This is slightly wider than the previous confidence interval. This reflects the greater uncertainty given that we are estimating population parameters from a sample."
      ]
    },
    {
      "cell_type": "markdown",
      "metadata": {
        "id": "9Sjd-3mi0IIg"
      },
      "source": [
        "## 4. Learning outcomes"
      ]
    },
    {
      "cell_type": "markdown",
      "metadata": {
        "id": "A8L43IXn0IIg"
      },
      "source": [
        "Having completed this project notebook, you now have hands-on experience:\n",
        "* sampling and calculating probabilities from a normal distribution\n",
        "* identifying the correct way to estimate the standard deviation of a population (the population parameter) from a sample\n",
        "* with sampling distribution and now know how the Central Limit Theorem applies\n",
        "* with how to calculate critical values and confidence intervals"
      ]
    }
  ]
}